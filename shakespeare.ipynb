{
  "cells": [
    {
      "cell_type": "markdown",
      "metadata": {
        "colab_type": "text",
        "id": "view-in-github"
      },
      "source": [
        "<a href=\"https://colab.research.google.com/github/dasmiq/cs6120-assignment2/blob/main/shakespeare.ipynb\" target=\"_parent\"><img src=\"https://colab.research.google.com/assets/colab-badge.svg\" alt=\"Open In Colab\"/></a>"
      ]
    },
    {
      "cell_type": "markdown",
      "metadata": {
        "id": "ghmXbcymaHxC"
      },
      "source": [
        "# Interpreting Classifier Weights\n",
        "\n",
        "In this experiment, you will train models to distringuish examples of two different genres of Shakespeare's plays: comedies and tragedies. (We'll ignore the histories, sonnets, etc.) Since he died four hundred years ago, Shakespeare has not written any more plays—although scraps of various other works have come to light. We are not, therefore, interested in building models simply to help categorize an unbounded stream of future documents, as we might be in other applications of text classification; rather, we are interested in what a classifier might have to tell us about what we mean by the terms “comedy” and “tragedy”.\n",
        "\n",
        "You will start by copying and running your `createBasicFeatures` function from the experiment with movie reviews. Do the features the classifier focuses on tell you much about comedy and tragedy in general?\n",
        "\n",
        "You will then implement another featurization function `createInterestingFeatures`, which will focus on only those features you think are informative for distinguishing between comedy and tragedy. Accuracy on leave-one-out cross-validation may go up, but it more important to look at the features given the highest weight by the classifier. Interpretability in machine learning, of course, may be harder to define than accuracy—although accuracy at some tasks is hard enoough."
      ]
    },
    {
      "cell_type": "code",
      "execution_count": 7,
      "metadata": {
        "id": "AdVS67_HNRmW"
      },
      "outputs": [],
      "source": [
        "import json\n",
        "import requests\n",
        "from sklearn.linear_model import LogisticRegression\n",
        "from sklearn.model_selection import cross_validate,LeaveOneOut\n",
        "import numpy as np"
      ]
    },
    {
      "cell_type": "code",
      "execution_count": 10,
      "metadata": {
        "id": "PzjMY8fYQbB6"
      },
      "outputs": [],
      "source": [
        "#read in the shakespeare corpus\n",
        "def readShakespeare():\n",
        "  raw = requests.get(\"https://raw.githubusercontent.com/dasmiq/cs6120-assignment2/refs/heads/main/shakespeare_plays.json\").text.strip()\n",
        "  corpus = [json.loads(line) for line in raw.split(\"\\n\")]\n",
        "\n",
        "  #remove histories from the data, as we're only working with tragedies and comedies\n",
        "  corpus = [entry for entry in corpus if entry[\"genre\"] != \"history\"]\n",
        "  return corpus"
      ]
    },
    {
      "cell_type": "markdown",
      "metadata": {
        "id": "v0r3oL3TdHIU"
      },
      "source": [
        "This is where you will implement two functions to featurize the data:"
      ]
    },
    {
      "cell_type": "code",
      "execution_count": 17,
      "metadata": {
        "id": "039fPQcF7OkN"
      },
      "outputs": [],
      "source": [
        "# TODO: Implement createBasicFeatures\n",
        "# NB: The current contents are for testing only\n",
        "# This function should return:\n",
        "#  -a sparse numpy matrix of document features\n",
        "#  -a list of the correct genre for each document\n",
        "#  -a list of the vocabulary used by the features, such that the ith term of the\n",
        "#    list is the word whose counts appear in the ith column of the matrix.\n",
        "\n",
        "# This function should create a feature representation using all tokens that\n",
        "# contain an alphabetic character.\n",
        "import re\n",
        "from collections import Counter\n",
        "from scipy.sparse import csr_matrix\n",
        "\n",
        "def createBasicFeatures(corpus):\n",
        "    # Extract genre labels\n",
        "    genres = [doc['genre'] for doc in corpus]\n",
        "    \n",
        "    # Extract tokens and build vocabulary\n",
        "    vocab_counter = Counter()\n",
        "    all_tokens = []\n",
        "    \n",
        "    for doc in corpus:\n",
        "        tokens = [token.lower() for token in re.findall(r'\\S+', doc['text']) \n",
        "                  if re.search(r'[a-zA-Z]', token)]\n",
        "        all_tokens.append(tokens)\n",
        "        vocab_counter.update(tokens)\n",
        "    \n",
        "    # Create vocabulary\n",
        "    vocab = sorted(vocab_counter.keys())\n",
        "    vocab_to_idx = {word: idx for idx, word in enumerate(vocab)}\n",
        "    \n",
        "    # Build sparse matrix\n",
        "    rows, cols, data = [], [], []\n",
        "\n",
        "    for doc_idx, tokens in enumerate(all_tokens):\n",
        "        token_counts = Counter(tokens)\n",
        "        for token, count in token_counts.items():\n",
        "            rows.append(doc_idx)\n",
        "            cols.append(vocab_to_idx[token])\n",
        "            data.append(count)\n",
        "    \n",
        "    texts = csr_matrix((data, (rows, cols)), \n",
        "                       shape=(len(corpus), len(vocab)))\n",
        "    \n",
        "    return texts, genres, vocab\n"
      ]
    },
    {
      "cell_type": "code",
      "execution_count": 24,
      "metadata": {
        "id": "JqjQVGuL4qYs"
      },
      "outputs": [],
      "source": [
        "# TODO: Implement createInterestingFeatures. Describe your features and what\n",
        "# they might tell you about the difference between comedy and tragedy.\n",
        "# This function can add other features you want that help classification\n",
        "# accuracy, such as bigrams, word prefixes and suffixes, etc.\n",
        "def createBasicFeatures(corpus):\n",
        "    # Extract genre labels\n",
        "    genres = [doc['genre'] for doc in corpus]\n",
        "    \n",
        "    # Extract tokens and build vocabulary\n",
        "    vocab_counter = Counter()\n",
        "    all_tokens = []\n",
        "    \n",
        "    for doc in corpus:\n",
        "        tokens = [token.lower() for token in re.findall(r'\\S+', doc['text']) \n",
        "                  if re.search(r'[a-zA-Z]', token)]\n",
        "        all_tokens.append(tokens)\n",
        "        vocab_counter.update(tokens)\n",
        "    \n",
        "    # Create vocabulary\n",
        "    vocab = sorted(vocab_counter.keys())\n",
        "    vocab_to_idx = {word: idx for idx, word in enumerate(vocab)}\n",
        "    \n",
        "    # Build sparse matrix\n",
        "    rows, cols, data = [], [], []\n",
        "    for doc_idx, tokens in enumerate(all_tokens):\n",
        "        token_counts = Counter(tokens)\n",
        "        for token, count in token_counts.items():\n",
        "            rows.append(doc_idx)\n",
        "            cols.append(vocab_to_idx[token])\n",
        "            data.append(count)\n",
        "    \n",
        "    texts = csr_matrix((data, (rows, cols)), shape=(len(corpus), len(vocab)))\n",
        "    return texts, genres, vocab\n",
        "\n",
        "\n",
        "def createInterestingFeatures(corpus):\n",
        "    \"\"\"\n",
        "    Features focused on literary themes rather than character names.\n",
        "    - Theme words: death, love, marriage, blood, honor, revenge\n",
        "    - Emotional words: joy, sorrow, fear, laugh\n",
        "    - Bigrams with theme words\n",
        "    \"\"\"\n",
        "    # Extract genre labels\n",
        "    genres = [doc['genre'] for doc in corpus]\n",
        "    \n",
        "    # Define theme words for comedy and tragedy\n",
        "    theme_words = {\n",
        "        'death', 'die', 'blood', 'kill', 'murder', 'revenge', 'honour', 'honor',\n",
        "        'love', 'marry', 'marriage', 'wedding', 'joy', 'laugh', 'merry', 'happy',\n",
        "        'sorrow', 'weep', 'cry', 'tears', 'fear', 'hate', 'war', 'peace'\n",
        "    }\n",
        "    \n",
        "    # Extract tokens and build features\n",
        "    vocab_counter = Counter()\n",
        "    all_features = []\n",
        "    \n",
        "    for doc in corpus:\n",
        "        tokens = [token.lower() for token in re.findall(r'\\S+', doc['text']) \n",
        "                  if re.search(r'[a-zA-Z]', token)]\n",
        "        \n",
        "        features = []\n",
        "        \n",
        "        # Add only theme-related unigrams\n",
        "        for token in tokens:\n",
        "            if token in theme_words:\n",
        "                features.append(token)\n",
        "        \n",
        "        # Add bigrams containing theme words\n",
        "        for i in range(len(tokens) - 1):\n",
        "            if tokens[i] in theme_words or tokens[i+1] in theme_words:\n",
        "                features.append(f\"{tokens[i]}_{tokens[i+1]}\")\n",
        "        \n",
        "        # Add general common words (not character names)\n",
        "        common_words = {'i', 'you', 'my', 'thy', 'me', 'him', 'her', 'his', 'our', \n",
        "                       'what', 'how', 'why', 'not', 'no', 'yes', 'good', 'bad'}\n",
        "        for token in tokens:\n",
        "            if token in common_words:\n",
        "                features.append(token)\n",
        "        \n",
        "        all_features.append(features)\n",
        "        vocab_counter.update(features)\n",
        "    \n",
        "    # Create vocabulary\n",
        "    vocab = sorted(vocab_counter.keys())\n",
        "    vocab_to_idx = {word: idx for idx, word in enumerate(vocab)}\n",
        "    \n",
        "    # Build sparse matrix\n",
        "    rows, cols, data = [], [], []\n",
        "    for doc_idx, features in enumerate(all_features):\n",
        "        feature_counts = Counter(features)\n",
        "        for feature, count in feature_counts.items():\n",
        "            rows.append(doc_idx)\n",
        "            cols.append(vocab_to_idx[feature])\n",
        "            data.append(count)\n",
        "    \n",
        "    texts = csr_matrix((data, (rows, cols)), shape=(len(corpus), len(vocab)))\n",
        "    return texts, genres, vocab"
      ]
    },
    {
      "cell_type": "code",
      "execution_count": 25,
      "metadata": {
        "id": "KfTBqBltXe7Y"
      },
      "outputs": [],
      "source": [
        "#given a numpy matrix representation of the features for the training set, the\n",
        "# vector of true classes for each example, and the vocabulary as described\n",
        "# above, this computes the accuracy of the model using leave one out cross\n",
        "# validation and reports the most indicative features for each class\n",
        "def evaluateModel(X,y,vocab,penalty=\"l1\"):\n",
        "  #create and fit the model\n",
        "  model = LogisticRegression(penalty=penalty,solver=\"liblinear\")\n",
        "  results = cross_validate(model,X,y,cv=LeaveOneOut())\n",
        "\n",
        "  #determine the average accuracy\n",
        "  scores = results[\"test_score\"]\n",
        "  avg_score = sum(scores)/len(scores)\n",
        "\n",
        "  #determine the most informative features\n",
        "  # this requires us to fit the model to everything, because we need a\n",
        "  # single model to draw coefficients from, rather than 26\n",
        "  model.fit(X,y)\n",
        "  neg_class_prob_sorted = model.coef_[0, :].argsort()\n",
        "  pos_class_prob_sorted = (-model.coef_[0, :]).argsort()\n",
        "\n",
        "  termsToTake = 20\n",
        "  pos_indicators = [vocab[i] for i in neg_class_prob_sorted[:termsToTake]]\n",
        "  neg_indicators = [vocab[i] for i in pos_class_prob_sorted[:termsToTake]]\n",
        "\n",
        "  return avg_score,pos_indicators,neg_indicators\n",
        "\n",
        "def runEvaluation(X,y,vocab):\n",
        "  print(\"----------L1 Norm-----------\")\n",
        "  avg_score,pos_indicators,neg_indicators = evaluateModel(X,y,vocab,\"l1\")\n",
        "  print(\"The model's average accuracy is %f\"%avg_score)\n",
        "  print(\"The most informative terms for pos are: %s\"%pos_indicators)\n",
        "  print(\"The most informative terms for neg are: %s\"%neg_indicators)\n",
        "  #this call will fit a model with L2 normalization\n",
        "  print(\"----------L2 Norm-----------\")\n",
        "  avg_score,pos_indicators,neg_indicators = evaluateModel(X,y,vocab,\"l2\")\n",
        "  print(\"The model's average accuracy is %f\"%avg_score)\n",
        "  print(\"The most informative terms for pos are: %s\"%pos_indicators)\n",
        "  print(\"The most informative terms for neg are: %s\"%neg_indicators)\n"
      ]
    },
    {
      "cell_type": "code",
      "execution_count": 26,
      "metadata": {
        "id": "mtlbg_aqdcW_"
      },
      "outputs": [],
      "source": [
        "corpus = readShakespeare()"
      ]
    },
    {
      "cell_type": "markdown",
      "metadata": {
        "id": "vpCqIhiqdhen"
      },
      "source": [
        "Run the following to train and evaluate two models with basic features:"
      ]
    },
    {
      "cell_type": "code",
      "execution_count": 27,
      "metadata": {
        "id": "4IpJ7PKjvc8I"
      },
      "outputs": [
        {
          "name": "stdout",
          "output_type": "stream",
          "text": [
            "----------L1 Norm-----------\n",
            "The model's average accuracy is 0.615385\n",
            "The most informative terms for pos are: ['you', 'duke', 'helena', 'i', 'prospero', 'sir', 'leontes', 'a', 'private', 'preserving', 'preservers', 'preserver', 'preserved', 'preserve', 'preservative', 'president', 'preservation', 'presents', 'presentment', 'presently']\n",
            "The most informative terms for neg are: ['him', 's', 'iago', 'imogen', 'brutus', 'lear', 'o', 'and', 'rom', 'ham', 'the', 'preserving', 'preservers', 'preserver', 'pretense', 'preserved', 'preserve', 'pretend', 'president', 'pretext']\n",
            "----------L2 Norm-----------\n",
            "The model's average accuracy is 0.769231\n",
            "The most informative terms for pos are: ['i', 'you', 'duke', 'prospero', 'a', 'helena', 'your', 'antonio', 'sir', 'leontes', 'hermia', 'for', 'lysander', 'ariel', 'sebastian', 'demetrius', 'camillo', 'stephano', 'me', 'parolles']\n",
            "The most informative terms for neg are: ['iago', 'othello', 's', 'him', 'imogen', 'what', 'lear', 'brutus', 'his', 'cassio', 'o', 'ham', 'our', 'desdemona', 'rom', 'romeo', 'posthumus', 'nurse', 'caesar', 'thy']\n"
          ]
        }
      ],
      "source": [
        "X,y,vocab = createBasicFeatures(corpus)\n",
        "runEvaluation(X, y, vocab)"
      ]
    },
    {
      "cell_type": "markdown",
      "metadata": {
        "id": "_FmW9F6ZdoyM"
      },
      "source": [
        "Run the following to train and evaluate two models with features that are interesting for distinguishing comedy and tragedy:"
      ]
    },
    {
      "cell_type": "code",
      "execution_count": 28,
      "metadata": {
        "id": "BW0Ajs2MdtIC"
      },
      "outputs": [
        {
          "name": "stdout",
          "output_type": "stream",
          "text": [
            "----------L1 Norm-----------\n",
            "The model's average accuracy is 0.846154\n",
            "The most informative terms for pos are: ['honour', 'you', 'i', 'me', 'no', 'thy', 'my', 'neck_happy', 'nearer_death', 'near_death', 'nay_weep', 'nature_honour', 'native_blood', 'name_revenge', 'n_marriage', 'my_wedding', 'my_tears', 'my_sorrow', 'native_honour', 'nectar_death']\n",
            "The most informative terms for neg are: ['what', 'him', 'not', 'our', 'her', 'nectar_death', 'neck_happy', 'nearer_death', 'near_death', 'a_cry', 'nature_honour', 'native_honour', 'native_blood', 'name_revenge', 'n_marriage', 'my_wedding', 'nay_weep', 'ned_death', 'needs_marry', 'my_tears']\n",
            "----------L2 Norm-----------\n",
            "The model's average accuracy is 0.846154\n",
            "The most informative terms for pos are: ['honour', 'you', 'i', 'your_honour', 'me', 'no', 'love', 'marry', 'mine_honour', 'die', 'marriage', 'good', 'merry', 'die_to', 'must_die', 'to_death', 'you_love', 'love_is', 'and_blood', 'honour_s']\n",
            "The most informative terms for neg are: ['him', 'what', 'not', 'our', 'kill', 'her', 'why', 'cry', 'weep', 'blood', 'honor', 'his', 'peace', 'kill_d', 'fear', 'revenge', 'love_thee', 'the_blood', 'war', 'tears']\n"
          ]
        }
      ],
      "source": [
        "X,y,vocab = createInterestingFeatures(corpus)\n",
        "runEvaluation(X, y, vocab)"
      ]
    },
    {
      "cell_type": "markdown",
      "metadata": {
        "id": "HztZ_0V55M_K"
      },
      "source": [
        "**TODO**: Based on the most informative features in the output of the classifier evaluation, what do these classifiers tell you about the differences between comedy and tragedy?"
      ]
    },
    {
      "cell_type": "markdown",
      "metadata": {},
      "source": [
        "The basic features model achieves 61.5% accuracy for L1 and 76.9% for L2, but it relies mostly on character names. The top features are names like Helena, Prospero for comedies and Iago, Othello, Lear for tragedies. This means the model just memorizes which characters belong to which plays instead of learning real differences between comedy and tragedy. It works somewhat but does not tell us anything meaningful about the genres.\n",
        "\n",
        "The interesting features model performs much better at 84.6% accuracy for both L1 and L2. It identifies features that show real literary patterns. Comedies use words about marriage like \"marry\" and \"wedding\", which makes sense since comedies often end with weddings. They also use more personal words like \"I\", \"you\", \"me\" and positive words like \"merry\", \"good\", and \"love\". This shows comedies focus on personal relationships and happy themes.\n",
        "\n",
        "Tragedies show very different patterns with words about violence like \"kill\", \"blood\", \"revenge\", and \"war\". They include sad emotions like \"weep\", \"cry\", and \"tears\". Tragedies also use question words like \"what\" and \"why\" with negative words like \"not\", showing more conflict and questioning. These features reveal that Shakespeare's tragedies deal with death and suffering while comedies focus on love and happy endings."
      ]
    },
    {
      "cell_type": "markdown",
      "metadata": {},
      "source": []
    }
  ],
  "metadata": {
    "colab": {
      "include_colab_link": true,
      "name": "PS1-Shakespeare.ipynb",
      "provenance": []
    },
    "kernelspec": {
      "display_name": "Python 3",
      "name": "python3"
    },
    "language_info": {
      "codemirror_mode": {
        "name": "ipython",
        "version": 3
      },
      "file_extension": ".py",
      "mimetype": "text/x-python",
      "name": "python",
      "nbconvert_exporter": "python",
      "pygments_lexer": "ipython3",
      "version": "3.13.1"
    }
  },
  "nbformat": 4,
  "nbformat_minor": 0
}
