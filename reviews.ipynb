{
  "cells": [
    {
      "cell_type": "markdown",
      "metadata": {
        "colab_type": "text",
        "id": "view-in-github"
      },
      "source": [
        "<a href=\"https://colab.research.google.com/github/dasmiq/cs6120-assignment2/blob/main/reviews.ipynb\" target=\"_parent\"><img src=\"https://colab.research.google.com/assets/colab-badge.svg\" alt=\"Open In Colab\"/></a>"
      ]
    },
    {
      "cell_type": "markdown",
      "metadata": {
        "id": "Jc2R3x6QSIFi"
      },
      "source": [
        "# Predicting Sentiment Labels\n",
        "\n",
        "In this experiment, you will explore the accuracy of sentiment classificaiton using different feature representations of text documents.\n",
        "\n",
        "First, you will implement `createBasicFeatures`, which creates a sparse matrix representation of a collection of documents.  As we discussed in class, many classification models represent a document as a sparse vector of of features and their weights. Weights could be boolean, counts, tf-idf values, or other functions of the document. In a linear model, we then combine the document vectors with the candidate output classes and learn weights for each of the feature-class pairs. This last step is implemented for you.\n",
        "\n",
        "For this exercise, you should have a feature for each word containing at least one alphabetic character. You may use the `numpy` and `sklearn` packages to help with implementing a sparse matrix.\n",
        "\n",
        "Then, you will implement `createFancyFeatures`, which can specify at any other features you choose to help improve performance on the classification task.\n",
        "\n",
        "The two code blocks at the end train and evaluate two models—logistic regression with L1 and L2 regularization—using your featurization functions. Besides held-out classification accuracy with 10-fold cross-validation, you will also see the features in each class given high weights by the model.\n",
        "\n",
        "There are many helpful resources online for getting up to speed with vector representations of documents. One example is the first two chapters of Delip Rao and Brian McMahan, _Natural Language Processing with PyTorch_, O'Reilly, 2019.  You should be able to <a href=\"https://learning.oreilly.com/library/view/natural-language-processing/9781491978221/\">read it online</a> via the Northeastern Library's subscription using a <tt>northeastern.edu</tt> email address."
      ]
    },
    {
      "cell_type": "code",
      "execution_count": 1,
      "metadata": {
        "id": "AdVS67_HNRmW"
      },
      "outputs": [],
      "source": [
        "import json\n",
        "import requests\n",
        "from sklearn.linear_model import LogisticRegression\n",
        "from sklearn.model_selection import cross_validate,LeaveOneOut,KFold\n",
        "import numpy as np"
      ]
    },
    {
      "cell_type": "code",
      "execution_count": 2,
      "metadata": {
        "cellView": "both",
        "id": "PzjMY8fYQbB6"
      },
      "outputs": [],
      "source": [
        "# read in the movie review corpus\n",
        "def readReviews():\n",
        "  raw = requests.get(\"https://raw.githubusercontent.com/dasmiq/cs6120-assignment2/refs/heads/main/cornell_reviews.json\").text.strip()\n",
        "  corpus = [json.loads(line) for line in raw.split(\"\\n\")]\n",
        "\n",
        "  return corpus"
      ]
    },
    {
      "cell_type": "markdown",
      "metadata": {
        "id": "Qvd3I95FT01D"
      },
      "source": [
        "This is where you will implement two functions to featurize the data."
      ]
    },
    {
      "cell_type": "code",
      "execution_count": 20,
      "metadata": {
        "id": "039fPQcF7OkN"
      },
      "outputs": [],
      "source": [
        "# TODO: Implement createBasicFeatures\n",
        "# NB: The current contents are for testing only\n",
        "# This function should return:\n",
        "#  -a sparse numpy matrix of document features\n",
        "#  -a list of the correct class for each document\n",
        "#  -a list of the vocabulary used by the features, such that the ith term of the\n",
        "#    list is the word whose counts appear in the ith column of the matrix.\n",
        "\n",
        "# This function should create a feature representation using all tokens that\n",
        "# contain an alphabetic character.\n",
        "import re\n",
        "from collections import Counter\n",
        "from scipy.sparse import csr_matrix\n",
        "\n",
        "def createBasicFeatures(corpus):\n",
        "    # Extract class labels\n",
        "    classes = [doc['class'] for doc in corpus]\n",
        "    \n",
        "    # Extract all tokens containing alphabetic characters and build vocabulary\n",
        "    vocab_counter = Counter()\n",
        "    all_tokens = []\n",
        "    \n",
        "    for doc in corpus:\n",
        "        # Extract tokens containing alphabetic characters\n",
        "        tokens = [token.lower() for token in re.findall(r'\\S+', doc['text']) \n",
        "                  if re.search(r'[a-zA-Z]', token)]\n",
        "        all_tokens.append(tokens)\n",
        "        vocab_counter.update(tokens)\n",
        "    \n",
        "    # Create vocabulary (sorted for consistency)\n",
        "    vocab = sorted(vocab_counter.keys())\n",
        "    vocab_to_idx = {word: idx for idx, word in enumerate(vocab)}\n",
        "    \n",
        "    # Build sparse matrix\n",
        "    rows, cols, data = [], [], []\n",
        "    \n",
        "    for doc_idx, tokens in enumerate(all_tokens):\n",
        "        token_counts = Counter(tokens)\n",
        "        for token, count in token_counts.items():\n",
        "            rows.append(doc_idx)\n",
        "            cols.append(vocab_to_idx[token])\n",
        "            data.append(count)\n",
        "    \n",
        "    # Create sparse matrix\n",
        "    texts = csr_matrix((data, (rows, cols)), \n",
        "                       shape=(len(corpus), len(vocab)))\n",
        "    \n",
        "    return texts, classes, vocab\n"
      ]
    },
    {
      "cell_type": "code",
      "execution_count": null,
      "metadata": {
        "id": "zWCw2sYesF_y"
      },
      "outputs": [],
      "source": [
        "# TODO: Implement createFancyFeatures andn describe in comments what the\n",
        "# features are and why they might ben helpful.\n",
        "# This function can add other features you want that help classification\n",
        "# accuracy, such as bigrams, word prefixes and suffixes, etc.\n",
        "def createFancyFeatures(corpus):\n",
        "\n",
        "    # Extract class labels\n",
        "    classes = [doc['class'] for doc in corpus]\n",
        "    \n",
        "    # Extract tokens and build vocabulary with unigrams + bigrams\n",
        "    vocab_counter = Counter()\n",
        "    all_tokens = []\n",
        "    \n",
        "    for doc in corpus:\n",
        "        # Extract tokens containing alphabetic characters\n",
        "        tokens = [token.lower() for token in re.findall(r'\\S+', doc['text']) \n",
        "                  if re.search(r'[a-zA-Z]', token)]\n",
        "        \n",
        "        # Add unigrams\n",
        "        features = tokens.copy()\n",
        "        \n",
        "        # Add bigrams\n",
        "        for i in range(len(tokens) - 1):\n",
        "            features.append(f\"{tokens[i]}_{tokens[i+1]}\")\n",
        "        \n",
        "        all_tokens.append(features)\n",
        "        vocab_counter.update(features)\n",
        "    \n",
        "    # Create vocabulary (sorted for consistency)\n",
        "    vocab = sorted(vocab_counter.keys())\n",
        "    vocab_to_idx = {word: idx for idx, word in enumerate(vocab)}\n",
        "    \n",
        "    # Build sparse matrix\n",
        "    rows, cols, data = [], [], []\n",
        "    \n",
        "    for doc_idx, tokens in enumerate(all_tokens):\n",
        "        token_counts = Counter(tokens)\n",
        "        for token, count in token_counts.items():\n",
        "            rows.append(doc_idx)\n",
        "            cols.append(vocab_to_idx[token])\n",
        "            data.append(count)\n",
        "    \n",
        "    # Create sparse matrix\n",
        "    texts = csr_matrix((data, (rows, cols)), \n",
        "                       shape=(len(corpus), len(vocab)))\n",
        "    \n",
        "    return texts, classes, vocab"
      ]
    },
    {
      "cell_type": "code",
      "execution_count": 11,
      "metadata": {
        "id": "KfTBqBltXe7Y"
      },
      "outputs": [],
      "source": [
        "# given a numpy matrix representation of the features for the training set, the\n",
        "# vector of true classes for each example, and the vocabulary as described\n",
        "# above, this computes the accuracy of the model using leave one out cross\n",
        "# validation and reports the most indicative features for each class\n",
        "\n",
        "def evaluateModel(X,y,vocab,penalty=\"l1\"):\n",
        "  # create and fit the model\n",
        "  model = LogisticRegression(penalty=penalty,solver=\"liblinear\")\n",
        "  results = cross_validate(model,X,y,cv=KFold(n_splits=10, shuffle=True, random_state=1))\n",
        "\n",
        "  # determine the average accuracy\n",
        "  scores = results[\"test_score\"]\n",
        "  avg_score = sum(scores)/len(scores)\n",
        "\n",
        "  # determine the most informative features\n",
        "  # this requires us to fit the model to everything, because we need a\n",
        "  # single model to draw coefficients from, rather than 26\n",
        "  model.fit(X,y)\n",
        "  class0_weight_sorted = model.coef_[0, :].argsort()\n",
        "  class1_weight_sorted = (-model.coef_[0, :]).argsort()\n",
        "\n",
        "  termsToTake = 20\n",
        "  class0_indicators = [vocab[i] for i in class0_weight_sorted[:termsToTake]]\n",
        "  class1_indicators = [vocab[i] for i in class1_weight_sorted[:termsToTake]]\n",
        "\n",
        "  if model.classes_[0] == \"pos\":\n",
        "    return avg_score,class0_indicators,class1_indicators\n",
        "  else:\n",
        "    return avg_score,class1_indicators,class0_indicators\n",
        "\n",
        "def runEvaluation(X,y,vocab):\n",
        "  print(\"----------L1 Norm-----------\")\n",
        "  avg_score,pos_indicators,neg_indicators = evaluateModel(X,y,vocab,\"l1\")\n",
        "  print(\"The model's average accuracy is %f\"%avg_score)\n",
        "  print(\"The most informative terms for pos are: %s\"%pos_indicators)\n",
        "  print(\"The most informative terms for neg are: %s\"%neg_indicators)\n",
        "  #this call will fit a model with L2 normalization\n",
        "  print(\"----------L2 Norm-----------\")\n",
        "  avg_score,pos_indicators,neg_indicators = evaluateModel(X,y,vocab,\"l2\")\n",
        "  print(\"The model's average accuracy is %f\"%avg_score)\n",
        "  print(\"The most informative terms for pos are: %s\"%pos_indicators)\n",
        "  print(\"The most informative terms for neg are: %s\"%neg_indicators)"
      ]
    },
    {
      "cell_type": "code",
      "execution_count": 3,
      "metadata": {
        "id": "VWWq5VgmECKV"
      },
      "outputs": [],
      "source": [
        "corpus = readReviews()"
      ]
    },
    {
      "cell_type": "code",
      "execution_count": null,
      "metadata": {},
      "outputs": [
        {
          "name": "stdout",
          "output_type": "stream",
          "text": [
            "{'class': 'neg', 'text': 'plot : two teen couples go to a church party , drink and then drive . they get into an accident . one of the guys dies , but his girlfriend continues to see him in her life , and has nightmares . what\\'s the deal ? watch the movie and \" sorta \" find out . . . critique : a mind-fuck movie for the teen generation that touches on a very cool idea , but presents it in a very bad package . which is what makes this review an even harder one to write , since i generally applaud films which attempt to break the mold , mess with your head and such ( lost highway & memento ) , but there are good and bad ways of making all types of films , and these folks just didn\\'t snag this one correctly . they seem to have taken this pretty neat concept , but executed it terribly . so what are the problems with the movie ? well , its main problem is that it\\'s simply too jumbled . it starts off \" normal \" but then downshifts into this \" fantasy \" world in which you , as an audience member , have no idea what\\'s going on . there are dreams , there are characters coming back from the dead , there are others who look like the dead , there are strange apparitions , there are disappearances , there are a looooot of chase scenes , there are tons of weird things that happen , and most of it is simply not explained . now i personally don\\'t mind trying to unravel a film every now and then , but when all it does is give me the same clue over and over again , i get kind of fed up after a while , which is this film\\'s biggest problem . it\\'s obviously got this big secret to hide , but it seems to want to hide it completely until its final five minutes . and do they make things entertaining , thrilling or even engaging , in the meantime ? not really . the sad part is that the arrow and i both dig on flicks like this , so we actually figured most of it out by the half-way point , so all of the strangeness after that did start to make a little bit of sense , but it still didn\\'t the make the film all that more entertaining . i guess the bottom line with movies like this is that you should always make sure that the audience is \" into it \" even before they are given the secret password to enter your world of understanding . i mean , showing melissa sagemiller running away from visions for about 20 minutes throughout the movie is just plain lazy ! ! okay , we get it . . . there are people chasing her and we don\\'t know who they are . do we really need to see it over and over again ? how about giving us different scenes offering further insight into all of the strangeness going down in the movie ? apparently , the studio took this film away from its director and chopped it up themselves , and it shows . there might\\'ve been a pretty decent teen mind-fuck movie in here somewhere , but i guess \" the suits \" decided that turning it into a music video with little edge , would make more sense . the actors are pretty good for the most part , although wes bentley just seemed to be playing the exact same character that he did in american beauty , only in a new neighborhood . but my biggest kudos go out to sagemiller , who holds her own throughout the entire film , and actually has you feeling her character\\'s unraveling . overall , the film doesn\\'t stick because it doesn\\'t entertain , it\\'s confusing , it rarely excites and it feels pretty redundant for most of its runtime , despite a pretty cool ending and explanation to all of the craziness that came before it . oh , and by the way , this is not a horror or teen slasher flick . . . it\\'s just packaged to look that way because someone is apparently assuming that the genre is still hot with the kids . it also wrapped production two years ago and has been sitting on the shelves ever since . whatever . . . skip it ! where\\'s joblo coming from ? a nightmare of elm street 3 ( 7/10 ) - blair witch 2 ( 7/10 ) - the crow ( 9/10 ) - the crow : salvation ( 4/10 ) - lost highway ( 10/10 ) - memento ( 10/10 ) - the others ( 9/10 ) - stir of echoes ( 8/10 ) '}\n",
            "dict_keys(['class', 'text'])\n"
          ]
        }
      ],
      "source": [
        "# Check the structure of the first document\n",
        "print(corpus[0])\n",
        "print(corpus[0].keys())"
      ]
    },
    {
      "cell_type": "markdown",
      "metadata": {
        "id": "72OUet02TjBo"
      },
      "source": [
        "Run the following to train and evaluate two models using basic features:"
      ]
    },
    {
      "cell_type": "code",
      "execution_count": null,
      "metadata": {
        "id": "4IpJ7PKjvc8I"
      },
      "outputs": [
        {
          "name": "stdout",
          "output_type": "stream",
          "text": [
            "----------L1 Norm-----------\n",
            "The model's average accuracy is 0.816000\n",
            "The most informative terms for pos are: ['flaws', 'excellent', 'terrific', 'memorable', 'edge', 'fantastic', 'using', 'command', 'perfectly', 'follows', 'color', 'sherri', 'allows', 'fun', 'overall', 'jackie', 'enjoyable', 'gas', 'easily', 'masterpiece']\n",
            "The most informative terms for neg are: ['tedious', 'waste', 'mess', 'awful', 'ridiculous', 'lame', 'worst', 'unfortunately', 'boring', 'cheap', 'superior', 'write', 'terrible', 'bad', 'nothing', 'annoying', 'neither', 'looks', 'headed', 'flat']\n",
            "----------L2 Norm-----------\n",
            "The model's average accuracy is 0.833500\n",
            "The most informative terms for pos are: ['fun', 'back', 'great', 'excellent', 'yet', 'overall', 'quite', 'seen', 'well', 'perfectly', 'jackie', 'terrific', 'american', 'memorable', 'job', 'pulp', 'true', 'performances', 'bit', 'follows']\n",
            "The most informative terms for neg are: ['bad', 'unfortunately', 'worst', 'nothing', 'waste', 'boring', 'only', 'script', 'looks', 'awful', 'poor', 'reason', 'plot', 'supposed', 'mess', 'lame', 'any', 'women', 'ridiculous', 'falls']\n"
          ]
        }
      ],
      "source": [
        "X,y,vocab = createBasicFeatures(corpus)\n",
        "runEvaluation(X, y, vocab)"
      ]
    },
    {
      "cell_type": "markdown",
      "metadata": {
        "id": "4sjxLL2PTrJi"
      },
      "source": [
        "Run the following to train and evaluate two models using extended features:"
      ]
    },
    {
      "cell_type": "code",
      "execution_count": null,
      "metadata": {
        "id": "1iHudrPb5NPY"
      },
      "outputs": [
        {
          "name": "stdout",
          "output_type": "stream",
          "text": [
            "----------L1 Norm-----------\n",
            "The model's average accuracy is 0.835000\n",
            "The most informative terms for pos are: ['even_if', 'flaws', 'terrific', 'on_screen', 'follows', 'excellent', 'due_to', 'overall', 'masterpiece', 'memorable', 'the_more', 'view', 'her_husband', 'by_a', 'perfectly', 'others', 'seen', \"he's_a\", 'using', 'gas']\n",
            "The most informative terms for neg are: ['ridiculous', 'awful', 'unfortunately', 'worst', 'mess', 'boring', 'waste', 'cheap', 'should_have', 'lame', 'bad', 'tedious', 'terrible', 'write', 'flat', 'heston', 'annoying', 'poor', 'designed', 'neither']\n",
            "----------L2 Norm-----------\n",
            "The model's average accuracy is 0.853000\n",
            "The most informative terms for pos are: ['great', 'well', 'fun', 'seen', 'back', 'very', 'also', 'quite', 'yet', 'excellent', 'many', 'life', 'while', 'job', 'perfectly', 'jackie', 'people', 'you', 'most', 'american']\n",
            "The most informative terms for neg are: ['bad', 'only', 'unfortunately', 'worst', 'nothing', 'boring', 'any', 'plot', 'waste', 'script', 'looks', 'poor', 'have', 'on', 'to_be', \"there's\", 'as_a', 'director', 'here', 'even']\n"
          ]
        }
      ],
      "source": [
        "X,y,vocab = createFancyFeatures(corpus)\n",
        "runEvaluation(X, y, vocab)"
      ]
    },
    {
      "cell_type": "markdown",
      "metadata": {
        "id": "hz4n7U-XsTE_"
      },
      "source": [
        "**TODO**: Briefly comment on your results. You do _not_ need to beat the basic features model to get full credit."
      ]
    },
    {
      "cell_type": "markdown",
      "metadata": {},
      "source": [
        "The Fancy Features model performs better than the Basic Features model. For L1 regularization, accuracy improved from 81.6% to 83.5%. For L2 regularization, accuracy improved from 83.35% to 85.3%. This shows that adding bigram features helps the model classify movie reviews more accurately.\n",
        "\n",
        "Bigrams capture useful word pairs that single words cannot express well. For example, phrases like \"should_have\" appear in negative reviews when people criticize movies, while phrases like \"even_if\" and \"on_screen\" are common in positive reviews. These word pairs give the model more context about the sentiment being expressed.\n",
        "\n",
        "L2 regularization works better than L1 in both models, reaching the highest accuracy of 85.3%. The bigram features successfully improve classification performance, showing that capturing word pairs is valuable for understanding movie review sentiment."
      ]
    }
  ],
  "metadata": {
    "colab": {
      "include_colab_link": true,
      "name": "PS1-Reviews.ipynb",
      "provenance": []
    },
    "kernelspec": {
      "display_name": "Python 3",
      "name": "python3"
    }
  },
  "nbformat": 4,
  "nbformat_minor": 0
}
